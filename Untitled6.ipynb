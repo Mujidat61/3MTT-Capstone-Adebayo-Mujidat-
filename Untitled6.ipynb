{
  "nbformat": 4,
  "nbformat_minor": 0,
  "metadata": {
    "colab": {
      "provenance": [],
      "authorship_tag": "ABX9TyPt59kTDs37Gej53uU5DRSv",
      "include_colab_link": true
    },
    "kernelspec": {
      "name": "python3",
      "display_name": "Python 3"
    },
    "language_info": {
      "name": "python"
    }
  },
  "cells": [
    {
      "cell_type": "markdown",
      "metadata": {
        "id": "view-in-github",
        "colab_type": "text"
      },
      "source": [
        "<a href=\"https://colab.research.google.com/github/Mujidat61/3MTT-Capstone-Adebayo-Mujidat-/blob/main/Untitled6.ipynb\" target=\"_parent\"><img src=\"https://colab.research.google.com/assets/colab-badge.svg\" alt=\"Open In Colab\"/></a>"
      ]
    },
    {
      "cell_type": "code",
      "execution_count": 1,
      "metadata": {
        "id": "wKfidl8u-RUL"
      },
      "outputs": [],
      "source": [
        "import torch"
      ]
    },
    {
      "cell_type": "code",
      "source": [
        "def customperm(a, b, c):\n",
        "    # Generate a tensor of shape (a * b) with random permutations of numbers between 0 and c-1\n",
        "    perm = torch.randperm(c).tolist()  # List of all numbers between 0 and c-1, shuffled\n",
        "    perm = perm[:a * b]  # Truncate to the desired number of elements (a * b)\n",
        "    # Convert the list to a tensor and reshape it to (a, b)\n",
        "    result = torch.tensor(perm).reshape(a, b)\n",
        "    return result"
      ],
      "metadata": {
        "id": "1ORcrQNx-fDr"
      },
      "execution_count": 15,
      "outputs": []
    },
    {
      "cell_type": "code",
      "source": [
        "# Test the function with customperm(3, 4, 20)\n",
        "print(customperm(3, 4, 20))"
      ],
      "metadata": {
        "colab": {
          "base_uri": "https://localhost:8080/"
        },
        "id": "SLzTZP_P-k2O",
        "outputId": "6e3836de-bc10-4bce-b464-6f38d607ce2b"
      },
      "execution_count": 16,
      "outputs": [
        {
          "output_type": "stream",
          "name": "stdout",
          "text": [
            "tensor([[ 6,  1, 15, 19],\n",
            "        [ 8, 10,  9, 18],\n",
            "        [ 2, 16, 11, 14]])\n"
          ]
        }
      ]
    }
  ]
}