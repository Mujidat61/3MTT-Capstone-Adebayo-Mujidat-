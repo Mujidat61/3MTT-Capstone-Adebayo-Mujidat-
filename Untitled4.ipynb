{
  "nbformat": 4,
  "nbformat_minor": 0,
  "metadata": {
    "colab": {
      "provenance": [],
      "authorship_tag": "ABX9TyNR4ER4kRiPEoC2LLODrWEh",
      "include_colab_link": true
    },
    "kernelspec": {
      "name": "python3",
      "display_name": "Python 3"
    },
    "language_info": {
      "name": "python"
    }
  },
  "cells": [
    {
      "cell_type": "markdown",
      "metadata": {
        "id": "view-in-github",
        "colab_type": "text"
      },
      "source": [
        "<a href=\"https://colab.research.google.com/github/Mujidat61/3MTT-Capstone-Adebayo-Mujidat-/blob/main/Untitled4.ipynb\" target=\"_parent\"><img src=\"https://colab.research.google.com/assets/colab-badge.svg\" alt=\"Open In Colab\"/></a>"
      ]
    },
    {
      "cell_type": "code",
      "execution_count": 1,
      "metadata": {
        "id": "QWeZ2GxM4KXy"
      },
      "outputs": [],
      "source": [
        "import sympy as sp"
      ]
    },
    {
      "cell_type": "code",
      "source": [
        "# Define the variable and the function\n",
        "x = sp.symbols('x')\n",
        "f = x**4 + 4*x**3 + 10*x**2 + 3*x + 11\n"
      ],
      "metadata": {
        "id": "gxOMfZH14ay1"
      },
      "execution_count": 2,
      "outputs": []
    },
    {
      "cell_type": "code",
      "source": [
        "# Compute the derivative (gradient)\n",
        "f_prime = sp.diff(f, x)"
      ],
      "metadata": {
        "id": "-xLbeRta4kEB"
      },
      "execution_count": 3,
      "outputs": []
    },
    {
      "cell_type": "code",
      "source": [
        "# Evaluate the gradient at x = 3\n",
        "gradient_at_3 = f_prime.subs(x, 3)"
      ],
      "metadata": {
        "id": "zBHcUvr_4mdq"
      },
      "execution_count": 4,
      "outputs": []
    },
    {
      "cell_type": "code",
      "source": [
        "# Print the results\n",
        "print(f\"The gradient of f(x) is: {f_prime}\")\n",
        "print(f\"The gradient of f(x) when x = 3 is: {gradient_at_3}\")"
      ],
      "metadata": {
        "colab": {
          "base_uri": "https://localhost:8080/"
        },
        "id": "Kn4i_qGS4u_f",
        "outputId": "00248b4a-773b-43cf-fb7e-f1f671d1d1f1"
      },
      "execution_count": 5,
      "outputs": [
        {
          "output_type": "stream",
          "name": "stdout",
          "text": [
            "The gradient of f(x) is: 4*x**3 + 12*x**2 + 20*x + 3\n",
            "The gradient of f(x) when x = 3 is: 279\n"
          ]
        }
      ]
    }
  ]
}